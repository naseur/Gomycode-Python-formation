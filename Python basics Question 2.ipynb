{
 "cells": [
  {
   "cell_type": "code",
   "execution_count": 10,
   "metadata": {},
   "outputs": [
    {
     "name": "stdout",
     "output_type": "stream",
     "text": [
      "enter value: 5\n",
      "result is: 615\n"
     ]
    }
   ],
   "source": [
    "n=input('enter value: ')\n",
    "strn=str(n)\n",
    "strnn=strn+strn\n",
    "strnnn=strn+strn+strn\n",
    "intn=int(n)\n",
    "intnn=int(strnn)\n",
    "intnnn=int(strnnn)\n",
    "print('the result is:',intn+intnn+intnnn)"
   ]
  },
  {
   "cell_type": "code",
   "execution_count": null,
   "metadata": {},
   "outputs": [],
   "source": []
  }
 ],
 "metadata": {
  "kernelspec": {
   "display_name": "Python 3",
   "language": "python",
   "name": "python3"
  },
  "language_info": {
   "codemirror_mode": {
    "name": "ipython",
    "version": 3
   },
   "file_extension": ".py",
   "mimetype": "text/x-python",
   "name": "python",
   "nbconvert_exporter": "python",
   "pygments_lexer": "ipython3",
   "version": "3.7.6"
  }
 },
 "nbformat": 4,
 "nbformat_minor": 4
}
