{
 "cells": [
  {
   "cell_type": "code",
   "execution_count": 13,
   "metadata": {},
   "outputs": [
    {
     "name": "stdout",
     "output_type": "stream",
     "text": [
      "enter value:200\n",
      "30% discount! The price of your product will be 140.0 €\n"
     ]
    }
   ],
   "source": [
    "x=int(input(\"enter price:\"))\n",
    "if x>=500:\n",
    "    print(\"50% discount! The price of your product will be\",x/2, \"€\")\n",
    "elif x>=200 and x<500:\n",
    "    print(\"30% discount! The price of your product will be\",x-x*0.3, \"€\")\n",
    "elif x<200:\n",
    "    print(\"10% discount! The price of your product will be\",x-x*0.1, \"€\")"
   ]
  },
  {
   "cell_type": "code",
   "execution_count": null,
   "metadata": {},
   "outputs": [],
   "source": []
  },
  {
   "cell_type": "code",
   "execution_count": null,
   "metadata": {},
   "outputs": [],
   "source": []
  }
 ],
 "metadata": {
  "kernelspec": {
   "display_name": "Python 3",
   "language": "python",
   "name": "python3"
  },
  "language_info": {
   "codemirror_mode": {
    "name": "ipython",
    "version": 3
   },
   "file_extension": ".py",
   "mimetype": "text/x-python",
   "name": "python",
   "nbconvert_exporter": "python",
   "pygments_lexer": "ipython3",
   "version": "3.7.6"
  }
 },
 "nbformat": 4,
 "nbformat_minor": 4
}
