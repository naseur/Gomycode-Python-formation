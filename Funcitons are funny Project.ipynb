{
 "cells": [
  {
   "cell_type": "code",
   "execution_count": 1,
   "metadata": {},
   "outputs": [
    {
     "name": "stdout",
     "output_type": "stream",
     "text": [
      "3\n"
     ]
    }
   ],
   "source": [
    "#question 1 do we have to return the 2 numbers that are max if we have 2 same numbers ?\n",
    "def maximum(a,b,c):\n",
    "    if a>=b and a>=c:\n",
    "        return(a)\n",
    "    elif b>=a and b>=c:\n",
    "        return(b)\n",
    "    else:                        #c>=a and c>=b:\n",
    "        return(c)\n",
    "print(maximum(3,3,1))"
   ]
  },
  {
   "cell_type": "code",
   "execution_count": 2,
   "metadata": {},
   "outputs": [
    {
     "name": "stdout",
     "output_type": "stream",
     "text": [
      "27052\n"
     ]
    }
   ],
   "source": [
    "#Question 2\n",
    "def Sums(liste):\n",
    "    Sum = 0\n",
    "    for x in range(len(liste)): \n",
    "        Sum += liste[x]\n",
    "    return(Sum)\n",
    "\n",
    "a=[1,5,250,50050,-23254]\n",
    "print(Sums(a)) "
   ]
  },
  {
   "cell_type": "code",
   "execution_count": 3,
   "metadata": {},
   "outputs": [
    {
     "name": "stdout",
     "output_type": "stream",
     "text": [
      "-1454828375000\n"
     ]
    }
   ],
   "source": [
    "def Mults(liste2):\n",
    "    Mult = 1\n",
    "    for x in range(len(liste2)): \n",
    "        Mult = Mult*liste2[x]\n",
    "    return(Mult)\n",
    "\n",
    "a=[1,5,250,50050,-23254]\n",
    "print(Mults(a)) "
   ]
  },
  {
   "cell_type": "code",
   "execution_count": 4,
   "metadata": {},
   "outputs": [
    {
     "name": "stdout",
     "output_type": "stream",
     "text": [
      "green-red-yellow-black-white\n",
      "black-green-red-white-yellow\n"
     ]
    }
   ],
   "source": [
    "#Question 3\n",
    "sample=[n for n in input().split('-')]\n",
    "sample.sort()\n",
    "print('-'.join(sample))"
   ]
  },
  {
   "cell_type": "code",
   "execution_count": null,
   "metadata": {},
   "outputs": [],
   "source": []
  }
 ],
 "metadata": {
  "kernelspec": {
   "display_name": "Python 3",
   "language": "python",
   "name": "python3"
  },
  "language_info": {
   "codemirror_mode": {
    "name": "ipython",
    "version": 3
   },
   "file_extension": ".py",
   "mimetype": "text/x-python",
   "name": "python",
   "nbconvert_exporter": "python",
   "pygments_lexer": "ipython3",
   "version": "3.7.6"
  }
 },
 "nbformat": 4,
 "nbformat_minor": 4
}
